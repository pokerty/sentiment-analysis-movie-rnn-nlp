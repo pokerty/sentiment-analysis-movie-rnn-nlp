{
  "nbformat": 4,
  "nbformat_minor": 0,
  "metadata": {
    "colab": {
      "provenance": []
    },
    "kernelspec": {
      "name": "python3",
      "display_name": "Python 3"
    },
    "language_info": {
      "name": "python"
    }
  },
  "cells": [
    {
      "cell_type": "markdown",
      "source": [
        "# Imports and Installs\n"
      ],
      "metadata": {
        "id": "Ulzi6Yj5VCMR"
      }
    },
    {
      "cell_type": "code",
      "source": [
        "!pip install datasets\n",
        "from IPython.display import clear_output\n",
        "clear_output(wait=True)\n",
        "print(\"\")"
      ],
      "metadata": {
        "colab": {
          "base_uri": "https://localhost:8080/"
        },
        "id": "zHhVleyvYySA",
        "outputId": "740601cd-557c-4cd2-d70e-4c0db8c8fc4b"
      },
      "execution_count": 1,
      "outputs": [
        {
          "output_type": "stream",
          "name": "stdout",
          "text": [
            "\n"
          ]
        }
      ]
    },
    {
      "cell_type": "code",
      "execution_count": 2,
      "metadata": {
        "id": "wGSxVZCvVy0e",
        "colab": {
          "base_uri": "https://localhost:8080/"
        },
        "outputId": "bf28e933-4892-44f4-9ceb-cb7fb5fd7063"
      },
      "outputs": [
        {
          "output_type": "stream",
          "name": "stderr",
          "text": [
            "[nltk_data] Downloading package wordnet to /root/nltk_data...\n",
            "[nltk_data]   Package wordnet is already up-to-date!\n",
            "[nltk_data] Downloading package omw-1.4 to /root/nltk_data...\n",
            "[nltk_data]   Package omw-1.4 is already up-to-date!\n",
            "[nltk_data] Downloading package punkt to /root/nltk_data...\n",
            "[nltk_data]   Package punkt is already up-to-date!\n",
            "[nltk_data] Downloading package stopwords to /root/nltk_data...\n",
            "[nltk_data]   Package stopwords is already up-to-date!\n"
          ]
        }
      ],
      "source": [
        "# Import libraries\n",
        "from datasets import load_dataset\n",
        "from collections import Counter\n",
        "import gensim.downloader as api\n",
        "import re\n",
        "from sklearn.decomposition import PCA\n",
        "import seaborn as sns\n",
        "import matplotlib.pyplot as plt\n",
        "import nltk\n",
        "from nltk.corpus import wordnet as wn\n",
        "from nltk.corpus import stopwords\n",
        "from nltk.tokenize import word_tokenize\n",
        "nltk.download('wordnet')\n",
        "nltk.download('omw-1.4')\n",
        "nltk.download('punkt')\n",
        "nltk.download('stopwords')\n",
        "import numpy as np\n",
        "import torch\n",
        "import torch.nn as nn\n",
        "import torch.nn.functional as F\n",
        "from torch.nn.utils.rnn import pad_sequence\n",
        "from torch.utils.data import DataLoader, TensorDataset\n",
        "import torch.optim as optim\n",
        "from tqdm import tqdm\n",
        "from sklearn.metrics import accuracy_score, classification_report, confusion_matrix"
      ]
    },
    {
      "cell_type": "markdown",
      "source": [
        "# Part 0: Dataset Preparation"
      ],
      "metadata": {
        "id": "DZLl4RdiVfoE"
      }
    },
    {
      "cell_type": "code",
      "source": [
        "# Load data func\n",
        "def load_data():\n",
        "    dataset = load_dataset(\"rotten_tomatoes\")\n",
        "    train_dataset = dataset['train']\n",
        "    validation_dataset = dataset['validation']\n",
        "    test_dataset = dataset['test']\n",
        "    return train_dataset, validation_dataset, test_dataset"
      ],
      "metadata": {
        "id": "VTgbgA4lYcgS"
      },
      "execution_count": 3,
      "outputs": []
    },
    {
      "cell_type": "code",
      "source": [
        "# Load data\n",
        "train, valid, test = load_data()"
      ],
      "metadata": {
        "colab": {
          "base_uri": "https://localhost:8080/"
        },
        "id": "v6bwICNACjLN",
        "outputId": "b9d03054-9a39-47bf-a157-d55bac688754"
      },
      "execution_count": 4,
      "outputs": [
        {
          "output_type": "stream",
          "name": "stderr",
          "text": [
            "/usr/local/lib/python3.10/dist-packages/huggingface_hub/utils/_token.py:89: UserWarning: \n",
            "The secret `HF_TOKEN` does not exist in your Colab secrets.\n",
            "To authenticate with the Hugging Face Hub, create a token in your settings tab (https://huggingface.co/settings/tokens), set it as secret in your Google Colab and restart your session.\n",
            "You will be able to reuse this secret in all of your notebooks.\n",
            "Please note that authentication is recommended but still optional to access public models or datasets.\n",
            "  warnings.warn(\n"
          ]
        }
      ]
    },
    {
      "cell_type": "code",
      "source": [
        "# Preview first data item\n",
        "train[0]"
      ],
      "metadata": {
        "colab": {
          "base_uri": "https://localhost:8080/"
        },
        "id": "bdo0DaYj3olZ",
        "outputId": "45125a7e-46e5-491a-d6d6-8219929a8ef7"
      },
      "execution_count": 5,
      "outputs": [
        {
          "output_type": "execute_result",
          "data": {
            "text/plain": [
              "{'text': 'the rock is destined to be the 21st century\\'s new \" conan \" and that he\\'s going to make a splash even greater than arnold schwarzenegger , jean-claud van damme or steven segal .',\n",
              " 'label': 1}"
            ]
          },
          "metadata": {},
          "execution_count": 5
        }
      ]
    },
    {
      "cell_type": "code",
      "source": [
        "# Preview last data item\n",
        "train[-1]"
      ],
      "metadata": {
        "colab": {
          "base_uri": "https://localhost:8080/"
        },
        "id": "gu-5zVmb3tC5",
        "outputId": "588823e4-18fd-4872-f064-517944b878fa"
      },
      "execution_count": 6,
      "outputs": [
        {
          "output_type": "execute_result",
          "data": {
            "text/plain": [
              "{'text': 'things really get weird , though not particularly scary : the movie is all portent and no content .',\n",
              " 'label': 0}"
            ]
          },
          "metadata": {},
          "execution_count": 6
        }
      ]
    },
    {
      "cell_type": "markdown",
      "source": [
        "---\n",
        "Observation: Dataset text is all\n",
        "lowercase, with many punctuation, special characters and extra spaces\n",
        "\n",
        "---\n",
        "\n"
      ],
      "metadata": {
        "id": "3u7ok8Vs_1Am"
      }
    },
    {
      "cell_type": "code",
      "source": [
        "# Preprocess func\n",
        "def preprocess(text):\n",
        "    text = re.sub(r\"[^a-z0-9'\\- ]+\", '', text) # Remove punctuation/special chars except ' and -\n",
        "    text = re.sub(' +', ' ', text) # Remove extra spaces\n",
        "    return text\n",
        "\n",
        "def preprocess_dataset(dataset):\n",
        "    processed_texts = [preprocess(text) for text in dataset['text']]\n",
        "    return {'text': processed_texts}"
      ],
      "metadata": {
        "id": "gRjk5j3f5vKk"
      },
      "execution_count": 7,
      "outputs": []
    },
    {
      "cell_type": "code",
      "source": [
        "# Preprocess\n",
        "train = train.map(preprocess_dataset, batched=True)\n",
        "valid = valid.map(preprocess_dataset, batched=True)\n",
        "test = test.map(preprocess_dataset, batched=True)"
      ],
      "metadata": {
        "id": "gIkOcsicV6Zl"
      },
      "execution_count": 8,
      "outputs": []
    },
    {
      "cell_type": "code",
      "source": [
        "# Preview processed first data item\n",
        "train[0]"
      ],
      "metadata": {
        "colab": {
          "base_uri": "https://localhost:8080/"
        },
        "id": "_2O3Wht36yXQ",
        "outputId": "aea67c8f-de92-46b2-83f0-87cadfb3d5ab"
      },
      "execution_count": 9,
      "outputs": [
        {
          "output_type": "execute_result",
          "data": {
            "text/plain": [
              "{'text': \"the rock is destined to be the 21st century's new conan and that he's going to make a splash even greater than arnold schwarzenegger jean-claud van damme or steven segal \",\n",
              " 'label': 1}"
            ]
          },
          "metadata": {},
          "execution_count": 9
        }
      ]
    },
    {
      "cell_type": "code",
      "source": [
        "# Preview processed last data item\n",
        "train[-1]"
      ],
      "metadata": {
        "colab": {
          "base_uri": "https://localhost:8080/"
        },
        "id": "8EE7o_x2AK6z",
        "outputId": "42c01493-1a19-4257-fe56-506433a03201"
      },
      "execution_count": 10,
      "outputs": [
        {
          "output_type": "execute_result",
          "data": {
            "text/plain": [
              "{'text': 'things really get weird though not particularly scary the movie is all portent and no content ',\n",
              " 'label': 0}"
            ]
          },
          "metadata": {},
          "execution_count": 10
        }
      ]
    },
    {
      "cell_type": "code",
      "source": [
        "# Count words\n",
        "all_train_words = []\n",
        "for item in train:\n",
        "    all_train_words.extend(item['text'].split())\n",
        "\n",
        "vocab = Counter(all_train_words)\n",
        "print(f\"(1a) {len(vocab)}\")"
      ],
      "metadata": {
        "colab": {
          "base_uri": "https://localhost:8080/"
        },
        "id": "9yhZm4PIC4WV",
        "outputId": "b15a99d0-2bc0-4c05-8db2-a710ea77e8fe"
      },
      "execution_count": 11,
      "outputs": [
        {
          "output_type": "stream",
          "name": "stdout",
          "text": [
            "(1a) 18730\n"
          ]
        }
      ]
    },
    {
      "cell_type": "markdown",
      "source": [
        "# Part 1: Preparing Word Embeddings (Word2Vec and GloVe)"
      ],
      "metadata": {
        "id": "z35rwMJXVmll"
      }
    },
    {
      "cell_type": "code",
      "source": [
        "# Show list of available embeddings\n",
        "list(api.info()['models'].keys())"
      ],
      "metadata": {
        "colab": {
          "base_uri": "https://localhost:8080/"
        },
        "id": "PJS8F9h5A6UN",
        "outputId": "13796e32-4750-4756-f248-66811a88c514"
      },
      "execution_count": 12,
      "outputs": [
        {
          "output_type": "execute_result",
          "data": {
            "text/plain": [
              "['fasttext-wiki-news-subwords-300',\n",
              " 'conceptnet-numberbatch-17-06-300',\n",
              " 'word2vec-ruscorpora-300',\n",
              " 'word2vec-google-news-300',\n",
              " 'glove-wiki-gigaword-50',\n",
              " 'glove-wiki-gigaword-100',\n",
              " 'glove-wiki-gigaword-200',\n",
              " 'glove-wiki-gigaword-300',\n",
              " 'glove-twitter-25',\n",
              " 'glove-twitter-50',\n",
              " 'glove-twitter-100',\n",
              " 'glove-twitter-200',\n",
              " '__testing_word2vec-matrix-synopsis']"
            ]
          },
          "metadata": {},
          "execution_count": 12
        }
      ]
    },
    {
      "cell_type": "code",
      "source": [
        "# Load models func\n",
        "def load_embeddings_word2vec(embedding_type='word2vec-google-news-300'):\n",
        "    embeddings = api.load(embedding_type)\n",
        "    return embeddings\n",
        "\n",
        "def load_embeddings_glove(embedding_type='glove-wiki-gigaword-300'):\n",
        "    embeddings = api.load(embedding_type)\n",
        "    return embeddings"
      ],
      "metadata": {
        "id": "HK09gQv-YdD7"
      },
      "execution_count": 13,
      "outputs": []
    },
    {
      "cell_type": "code",
      "source": [
        "# Load models\n",
        "embedding_model_word2vec = load_embeddings_word2vec()\n",
        "embedding_model_glove = load_embeddings_glove()"
      ],
      "metadata": {
        "id": "6AyskMT5D3GK"
      },
      "execution_count": 14,
      "outputs": []
    },
    {
      "cell_type": "code",
      "source": [
        "# Visualize embeddings for word2vec\n",
        "words = ['The', 'the', 'rock', 'is', 'destined', 'be', 'the', 'century']\n",
        "vectors = [embedding_model_word2vec[word] for word in words]\n",
        "\n",
        "# PCA for dimensionality reduction\n",
        "pca = PCA(n_components=2)\n",
        "reduced_vectors = pca.fit_transform(vectors)\n",
        "\n",
        "# Plot\n",
        "plt.figure(figsize=(8,6))\n",
        "for i, word in enumerate(words):\n",
        "    plt.scatter(reduced_vectors[i,0], reduced_vectors[i,1])\n",
        "    plt.annotate(word, xy=(reduced_vectors[i,0], reduced_vectors[i,1]))\n",
        "plt.show()"
      ],
      "metadata": {
        "colab": {
          "base_uri": "https://localhost:8080/",
          "height": 522
        },
        "id": "DfCSLEKGEVVu",
        "outputId": "1e0044cf-49ec-4211-930a-c0741e4728e9"
      },
      "execution_count": 15,
      "outputs": [
        {
          "output_type": "display_data",
          "data": {
            "text/plain": [
              "<Figure size 800x600 with 1 Axes>"
            ],
            "image/png": "[encoded data removed]"
          },
          "metadata": {}
        }
      ]
    },
    {
      "cell_type": "markdown",
      "source": [
        "\n",
        "\n",
        "---\n",
        "\n",
        "\n",
        "Observation: 'to' not in word2vec\n",
        "\n",
        "---\n",
        "\n",
        "\n",
        "\n"
      ],
      "metadata": {
        "id": "wsTeqXFSG4MX"
      }
    },
    {
      "cell_type": "code",
      "source": [
        "# Visualize embeddings for glove\n",
        "words = ['the', 'rock', 'is', 'destined', 'to', 'be', 'the', 'century']\n",
        "vectors = [embedding_model_glove[word] for word in words]\n",
        "reduced_vectors = pca.fit_transform(vectors)\n",
        "\n",
        "# Plot\n",
        "plt.figure(figsize=(8,6))\n",
        "for i, word in enumerate(words):\n",
        "    plt.scatter(reduced_vectors[i,0], reduced_vectors[i,1])\n",
        "    plt.annotate(word, xy=(reduced_vectors[i,0], reduced_vectors[i,1]))\n",
        "plt.show()"
      ],
      "metadata": {
        "colab": {
          "base_uri": "https://localhost:8080/",
          "height": 522
        },
        "id": "nAq9FRDqFbox",
        "outputId": "ae57b21c-3f51-45a0-82ed-99d78464c60c"
      },
      "execution_count": 16,
      "outputs": [
        {
          "output_type": "display_data",
          "data": {
            "text/plain": [
              "<Figure size 800x600 with 1 Axes>"
            ],
            "image/png": "[encoded data removed]"
          },
          "metadata": {}
        }
      ]
    },
    {
      "cell_type": "markdown",
      "source": [
        "\n",
        "---\n",
        "Observation: 'The' not in glove\n",
        "\n",
        "---\n",
        "\n",
        "\n",
        "\n",
        "\n"
      ],
      "metadata": {
        "id": "KdKvzS-KHrSi"
      }
    },
    {
      "cell_type": "markdown",
      "source": [
        "\n",
        "\n",
        "---\n",
        "\n",
        "Observation: Word2vec Embedding is case sensitive, both embeddings and not stemmed or lemmatized, so we dont apply these to our data either\n",
        "\n",
        "---\n",
        "\n",
        "\n",
        "\n"
      ],
      "metadata": {
        "id": "ZOzGdE1YW3fW"
      }
    },
    {
      "cell_type": "code",
      "source": [
        "# Count oov for word2vec\n",
        "oov_words_word2vec = []\n",
        "for word in vocab:\n",
        "    if word not in embedding_model_word2vec:\n",
        "        oov_words_word2vec.append(word)\n",
        "\n",
        "print(f\"(1b) {len(oov_words_word2vec)}\")"
      ],
      "metadata": {
        "colab": {
          "base_uri": "https://localhost:8080/"
        },
        "id": "dl8eXBn2GY1t",
        "outputId": "2dd80496-c44c-443f-af06-866194bfaf2e"
      },
      "execution_count": 17,
      "outputs": [
        {
          "output_type": "stream",
          "name": "stdout",
          "text": [
            "(1b) 4370\n"
          ]
        }
      ]
    },
    {
      "cell_type": "code",
      "source": [
        "# Count oov for glove\n",
        "oov_words_glove = []\n",
        "for word in vocab:\n",
        "    if word not in embedding_model_glove:\n",
        "        oov_words_glove.append(word)\n",
        "\n",
        "print(f\"(1b) {len(oov_words_glove)}\")"
      ],
      "metadata": {
        "colab": {
          "base_uri": "https://localhost:8080/"
        },
        "id": "DB56lqifHKht",
        "outputId": "77d77b51-b9c5-43a1-aebd-ad750a4e7037"
      },
      "execution_count": 18,
      "outputs": [
        {
          "output_type": "stream",
          "name": "stdout",
          "text": [
            "(1b) 2841\n"
          ]
        }
      ]
    },
    {
      "cell_type": "markdown",
      "source": [
        "\n",
        "\n",
        "---\n",
        "\n",
        "\n",
        "Oberservation: Glove has less OOV words, hence we will proceed with glove embedding model\n",
        "\n",
        "\n",
        "---\n",
        "\n"
      ],
      "metadata": {
        "id": "cj23Gp9ZNK_M"
      }
    },
    {
      "cell_type": "code",
      "source": [
        "# Create embedding matrix func\n",
        "def create_embedding_matrix(vocab, embedding_model, embedding_dim=300):\n",
        "    embedding_matrix = np.zeros((len(vocab), embedding_dim))\n",
        "    oov_words = []\n",
        "\n",
        "    for word, idx in vocab.items():\n",
        "        try:\n",
        "            embedding_matrix[idx] = embedding_model[word]\n",
        "        except KeyError:\n",
        "            oov_words.append(word)\n",
        "            embedding_matrix[idx] = np.random.normal(size=(embedding_dim,))\n",
        "\n",
        "    return torch.FloatTensor(embedding_matrix), oov_words"
      ],
      "metadata": {
        "id": "jx0lhQGaM5L7"
      },
      "execution_count": 19,
      "outputs": []
    },
    {
      "cell_type": "code",
      "source": [
        "# Create embedding matrix with glove embedding\n",
        "embedding_matrix, oov_words = create_embedding_matrix(vocab, embedding_model_glove)"
      ],
      "metadata": {
        "id": "kb5Gg2HbNRRp"
      },
      "execution_count": 20,
      "outputs": []
    },
    {
      "cell_type": "markdown",
      "source": [
        "\n",
        "\n",
        "---\n",
        "(1c)\n",
        "Solution to mitigate OOV words:\n",
        "1. Look into both embedding models, average the values if its in both, else take the value of the one it is found in.\n",
        "2. If it is in neither, attempt to find synonyms in WordNet\n",
        "3. If that does not work, generate n-gram and attempt to use character n-gram to find word\n",
        "4. If all else fail, return random values\n",
        "\n",
        "\n",
        "---\n",
        "\n"
      ],
      "metadata": {
        "id": "nL6qPutFH6xm"
      }
    },
    {
      "cell_type": "code",
      "source": [
        "# Create the enhanced embedding matrix using both embedding models\n",
        "def create_embedding_matrix_enhanced(vocab, embedding_model_w2v, embedding_model_glove, embedding_dim=300):\n",
        "    embedding_matrix = np.zeros((len(vocab), embedding_dim))\n",
        "    oov_words = []\n",
        "\n",
        "    for word, idx in vocab.items():\n",
        "        w2v_vector = embedding_model_w2v[word] if word in embedding_model_w2v else None\n",
        "        glove_vector = embedding_model_glove[word] if word in embedding_model_glove else None\n",
        "        if w2v_vector is not None and glove_vector is not None:\n",
        "            embedding = (w2v_vector + glove_vector) / 2 # Average of both models\n",
        "        elif w2v_vector is not None:\n",
        "            embedding = w2v_vector\n",
        "        elif glove_vector is not None:\n",
        "            embedding = glove_vector\n",
        "        else: # Word is OOV\n",
        "            embedding = handle_oov_word(word, embedding_model_w2v, embedding_model_glove, embedding_dim)\n",
        "            oov_words.append(word)\n",
        "        embedding_matrix[idx] = embedding\n",
        "\n",
        "    return torch.FloatTensor(embedding_matrix), oov_words\n",
        "\n",
        "# Function to look at OOV words\n",
        "def handle_oov_word(word, embedding_model_w2v, embedding_model_glove, embedding_dim):\n",
        "    # Try find synonyms in WordNet\n",
        "    synonyms = get_synonyms(word)\n",
        "    synonym_vectors = []\n",
        "    for synonym in synonyms:\n",
        "        if synonym in embedding_model_w2v:\n",
        "            synonym_vectors.append(embedding_model_w2v[synonym])\n",
        "        elif synonym in embedding_model_glove:\n",
        "            synonym_vectors.append(embedding_model_glove[synonym])\n",
        "    if synonym_vectors:\n",
        "        return np.mean(synonym_vectors, axis=0) # Average the synonyms embeddings\n",
        "\n",
        "    # Try use character n-grams\n",
        "    ngram_vectors = []\n",
        "    ngrams = generate_ngrams(word)\n",
        "    for ngram in ngrams:\n",
        "        if ngram in embedding_model_w2v:\n",
        "            ngram_vectors.append(embedding_model_w2v[ngram])\n",
        "        elif ngram in embedding_model_glove:\n",
        "            ngram_vectors.append(embedding_model_glove[ngram])\n",
        "    if ngram_vectors:\n",
        "        return np.mean(ngram_vectors, axis=0)  # Average the n-grams embeddings\n",
        "    return np.random.normal(size=(embedding_dim,)) # If all else fails, initialize randomly\n",
        "\n",
        "# Function to get synonyms with WordNet\n",
        "def get_synonyms(word):\n",
        "    synonyms = set()\n",
        "    for synset in wn.synsets(word):\n",
        "        for lemma in synset.lemmas():\n",
        "            synonym = lemma.name().replace('_', ' ')\n",
        "            synonyms.add(synonym.lower())\n",
        "    return synonyms\n",
        "\n",
        "# Function to generate character n-grams from unigrams to trigrams\n",
        "def generate_ngrams(word):\n",
        "    ngrams = []\n",
        "    n = len(word)\n",
        "    for i in range(n):\n",
        "        for j in range(i+1, min(n+1, i+4)): # Generate n-grams of length 1 to 3\n",
        "            ngram = word[i:j]\n",
        "            ngrams.append(ngram)\n",
        "    return ngrams\n"
      ],
      "metadata": {
        "id": "Z6mdpSBgEMm1"
      },
      "execution_count": 21,
      "outputs": []
    },
    {
      "cell_type": "code",
      "source": [
        "# Create the embedding matrix with the 2 models\n",
        "embedding_matrix_enhanced, oov_words_enhanced = create_embedding_matrix_enhanced(vocab, embedding_model_word2vec, embedding_model_word2vec)"
      ],
      "metadata": {
        "id": "VYX9TxYy2oxy"
      },
      "execution_count": 22,
      "outputs": []
    },
    {
      "cell_type": "markdown",
      "source": [
        "# Part 2: Model Training & Evaluation (Base RNN Model)"
      ],
      "metadata": {
        "id": "jdodrxpjU0_v"
      }
    },
    {
      "cell_type": "markdown",
      "source": [
        "\n",
        "\n",
        "---\n",
        "\n",
        "We need to first tokenize and pad the data, then create a dataloader to train the rnn\n",
        "\n",
        "---\n",
        "\n"
      ],
      "metadata": {
        "id": "ilyF77kNXwSb"
      }
    },
    {
      "cell_type": "code",
      "source": [
        "# Tokenize, remove stop words, encoding of tokens and padding func\n",
        "def tokenize_and_pad(texts, max_length=50):\n",
        "    all_tokens = []\n",
        "    stop_words = set(stopwords.words('english'))\n",
        "    for text in texts:\n",
        "        tokens = word_tokenize(text)\n",
        "        tokens = [w for w in tokens if not w.lower() in stop_words]\n",
        "        all_tokens.append(tokens)\n",
        "\n",
        "    word_index = {'<PAD>': 0, '<OOV>': 1}\n",
        "\n",
        "    current_index = 2\n",
        "    for tokens in all_tokens:\n",
        "        for token in tokens:\n",
        "            if token not in word_index:\n",
        "                word_index[token] = current_index\n",
        "                current_index += 1\n",
        "\n",
        "    sequences = [[word_index.get(token, word_index['<OOV>']) for token in tokens] for tokens in all_tokens]\n",
        "\n",
        "    sequences_tensor = [torch.tensor(seq) for seq in sequences]\n",
        "    padded_sequences = pad_sequence(sequences_tensor, batch_first=True, padding_value=word_index['<PAD>'])\n",
        "\n",
        "    return padded_sequences, word_index"
      ],
      "metadata": {
        "id": "l5lu06cSNXuY"
      },
      "execution_count": 23,
      "outputs": []
    },
    {
      "cell_type": "markdown",
      "source": [
        "\n",
        "\n",
        "---\n",
        "\n",
        "\n",
        "(2c) Solution to utilize hidden state:\n",
        "\n",
        "1. `out = self.fc(rnn_out[:, -1])` takes the last hidden state and feeds it to the fully connected layer\n",
        "2. `out = self.fc(torch.mean(rnn_out, dim=1))` averages all hidden states to consider every word equally\n",
        "3. `self.attention = nn.Linear(hidden_size, 1)` the attention mechanism assigns weights to different words based on their importance\n",
        "\n",
        "\n",
        "\n",
        "\n",
        "---\n",
        "\n"
      ],
      "metadata": {
        "id": "fm02Rs9Bzv1d"
      }
    },
    {
      "cell_type": "code",
      "source": [
        "# Def RNN and variants\n",
        "class SentimentRNN_Freeze(nn.Module):\n",
        "    def __init__(self, embedding_matrix, hidden_size=128, output_size=1, num_layers=1):\n",
        "        super().__init__()\n",
        "        vocab_size, embedding_dim = embedding_matrix.shape\n",
        "\n",
        "        # FREEZE IS TRUE\n",
        "        self.embedding = nn.Embedding.from_pretrained(embedding_matrix, freeze=True)\n",
        "        self.rnn = nn.RNN(embedding_dim, hidden_size, num_layers, batch_first=True)\n",
        "        self.fc = nn.Linear(hidden_size, output_size)\n",
        "\n",
        "    def forward(self, x):\n",
        "        embedded = self.embedding(x)\n",
        "        rnn_out, _ = self.rnn(embedded)\n",
        "        out = self.fc(rnn_out[:, -1])\n",
        "        return out\n",
        "\n",
        "class SentimentRNN(nn.Module):\n",
        "    def __init__(self, embedding_matrix, hidden_size=128, output_size=1, num_layers=1):\n",
        "        super().__init__()\n",
        "        vocab_size, embedding_dim = embedding_matrix.shape\n",
        "\n",
        "        self.embedding = nn.Embedding.from_pretrained(embedding_matrix, freeze=False)\n",
        "        self.rnn = nn.RNN(embedding_dim, hidden_size, num_layers, batch_first=True)\n",
        "        self.fc = nn.Linear(hidden_size, output_size)\n",
        "\n",
        "    def forward(self, x):\n",
        "        embedded = self.embedding(x)\n",
        "        rnn_out, _ = self.rnn(embedded)\n",
        "        out = self.fc(rnn_out[:, -1])\n",
        "        return out\n",
        "\n",
        "class SentimentRNN_AvgHidden(nn.Module):\n",
        "    def __init__(self, embedding_matrix, hidden_size=128, output_size=1, num_layers=1):\n",
        "        super().__init__()\n",
        "        vocab_size, embedding_dim = embedding_matrix.shape\n",
        "\n",
        "        self.embedding = nn.Embedding.from_pretrained(embedding_matrix, freeze=False)\n",
        "        self.rnn = nn.RNN(embedding_dim, hidden_size, num_layers, batch_first=True)\n",
        "        self.fc = nn.Linear(hidden_size, output_size)\n",
        "\n",
        "    def forward(self, x):\n",
        "        embedded = self.embedding(x)\n",
        "        rnn_out, _ = self.rnn(embedded)\n",
        "        # Average hidden states\n",
        "        out = self.fc(torch.mean(rnn_out, dim=1))\n",
        "        return out\n",
        "\n",
        "class SentimentRNN_Attention(nn.Module):\n",
        "    def __init__(self, embedding_matrix, hidden_size=128, output_size=1, num_layers=1):\n",
        "        super().__init__()\n",
        "        vocab_size, embedding_dim = embedding_matrix.shape\n",
        "\n",
        "        self.embedding = nn.Embedding.from_pretrained(embedding_matrix, freeze=False)\n",
        "        self.rnn = nn.RNN(embedding_dim, hidden_size, num_layers, batch_first=True)\n",
        "        self.fc = nn.Linear(hidden_size, output_size)\n",
        "        # Attention layer\n",
        "        self.attention = nn.Linear(hidden_size, 1)\n",
        "\n",
        "    def forward(self, x):\n",
        "        embedded = self.embedding(x)\n",
        "        rnn_out, _ = self.rnn(embedded)\n",
        "        # Calculate attention weights, apply attention weights to hidden states\n",
        "        attention_weights = torch.softmax(self.attention(rnn_out), dim=1)\n",
        "        out = self.fc(torch.sum(attention_weights * rnn_out, dim=1))\n",
        "        return out"
      ],
      "metadata": {
        "id": "ahsjmrpcYdcA"
      },
      "execution_count": 24,
      "outputs": []
    },
    {
      "cell_type": "code",
      "source": [
        "# Def train/evaluate funcs\n",
        "def train_model(model, train_loader, val_loader, epochs, learning_rate, optimizer, criterion):\n",
        "    for epoch in range(epochs):\n",
        "        # Training phase\n",
        "        model.train()\n",
        "        epoch_train_loss = 0\n",
        "        epoch_train_acc = 0\n",
        "\n",
        "        for inputs, labels in train_loader:\n",
        "            inputs = inputs.to(device)\n",
        "            labels = labels.float().to(device)\n",
        "\n",
        "            optimizer.zero_grad()\n",
        "            outputs = model(inputs).squeeze(1)\n",
        "            loss = criterion(outputs, labels)\n",
        "            loss.backward()\n",
        "            optimizer.step()\n",
        "\n",
        "            # Calculate training accuracy\n",
        "            probs = torch.sigmoid(outputs)\n",
        "            preds = (probs > 0.5).float()\n",
        "            acc = (preds == labels).float().mean()\n",
        "\n",
        "            epoch_train_loss += loss.item()\n",
        "            epoch_train_acc += acc.item()\n",
        "\n",
        "        avg_train_loss = epoch_train_loss / len(train_loader)\n",
        "        avg_train_acc = epoch_train_acc / len(train_loader)\n",
        "\n",
        "        # Validation phase\n",
        "        model.eval()\n",
        "        epoch_valid_loss = 0\n",
        "        epoch_valid_acc = 0\n",
        "\n",
        "        with torch.no_grad():\n",
        "            for inputs, labels in valid_loader:\n",
        "                inputs = inputs.to(device)\n",
        "                labels = labels.float().to(device)\n",
        "\n",
        "                outputs = model(inputs).squeeze(1)\n",
        "                loss = criterion(outputs, labels)\n",
        "\n",
        "                # Calculate validation accuracy\n",
        "                probs = torch.sigmoid(outputs)\n",
        "                preds = (probs > 0.5).float()\n",
        "                acc = (preds == labels).float().mean()\n",
        "\n",
        "                epoch_valid_loss += loss.item()\n",
        "                epoch_valid_acc += acc.item()\n",
        "\n",
        "        avg_valid_loss = epoch_valid_loss / len(valid_loader)\n",
        "        avg_valid_acc = epoch_valid_acc / len(valid_loader)\n",
        "\n",
        "        print(f'Epoch {epoch+1}/{epochs}')\n",
        "        print(f'Train Loss: {avg_train_loss:.4f} | Train Acc: {avg_train_acc*100:.2f}%')\n",
        "        print(f'Valid Loss: {avg_valid_loss:.4f} | Valid Acc: {avg_valid_acc*100:.2f}%')\n",
        "    return avg_valid_acc\n"
      ],
      "metadata": {
        "id": "olDNiZm-1ABV"
      },
      "execution_count": 25,
      "outputs": []
    },
    {
      "cell_type": "code",
      "source": [
        "# Tokenize texts and create dataloaders with it and labels\n",
        "train_texts = [item['text'] for item in train]\n",
        "valid_texts = [item['text'] for item in valid]\n",
        "test_texts = [item['text'] for item in test]\n",
        "\n",
        "train_labels = [item['label'] for item in train]\n",
        "valid_labels = [item['label'] for item in valid]\n",
        "test_labels = [item['label'] for item in test]\n",
        "\n",
        "train_texts_padded, train_word_index = tokenize_and_pad(train_texts)\n",
        "valid_texts_padded, valid_word_index = tokenize_and_pad(valid_texts)\n",
        "test_texts_padded, test_word_index = tokenize_and_pad(test_texts)\n",
        "\n",
        "train_dataset = TensorDataset(train_texts_padded, torch.tensor(train_labels))\n",
        "valid_dataset = TensorDataset(valid_texts_padded, torch.tensor(valid_labels))\n",
        "test_dataset = TensorDataset(test_texts_padded, torch.tensor(test_labels))\n",
        "\n",
        "batch_size = 64\n",
        "\n",
        "train_loader = DataLoader(train_dataset, batch_size=batch_size, shuffle=True) # only need to shuffle train\n",
        "valid_loader = DataLoader(valid_dataset, batch_size=batch_size, shuffle=False)\n",
        "test_loader = DataLoader(test_dataset, batch_size=batch_size, shuffle=False)"
      ],
      "metadata": {
        "id": "GH5vb0lXgW6K"
      },
      "execution_count": 26,
      "outputs": []
    },
    {
      "cell_type": "code",
      "source": [
        "# Def config\n",
        "criterion = nn.BCEWithLogitsLoss()\n",
        "device = torch.device('cuda' if torch.cuda.is_available() else 'cpu')\n",
        "learning_rates = [\n",
        "    1e-4,\n",
        "    # 1e-5,\n",
        "]\n",
        "optimizers = [\n",
        "    torch.optim.Adam,\n",
        "    # torch.optim.SGD,\n",
        "]\n",
        "epochs = 20"
      ],
      "metadata": {
        "id": "r0h5kT4Xx-di"
      },
      "execution_count": 44,
      "outputs": []
    },
    {
      "cell_type": "code",
      "source": [
        "# Find best config func\n",
        "import copy\n",
        "\n",
        "def find_best_config(model_class, embedding_matrix, train_loader, valid_loader, epochs, optimizers, learning_rates, criterion):\n",
        "    best_accuracy = 0\n",
        "    best_config = {}\n",
        "    best_model = None\n",
        "\n",
        "    for optimizer_class in optimizers:\n",
        "        print(f\"optimizer: {optimizer_class.__name__}\")\n",
        "        for lr in learning_rates:\n",
        "            print(f\"learning rate: {lr}\")\n",
        "            # Instantiate a new model for each configuration\n",
        "            model = model_class(embedding_matrix)\n",
        "            model.to(device)\n",
        "            # Initialize the optimizer\n",
        "            optimizer = optimizer_class(model.parameters(), lr=lr)\n",
        "\n",
        "            # Train and Evaluate\n",
        "            val_accuracy = train_model(model, train_loader, valid_loader, epochs, lr, optimizer, criterion)\n",
        "\n",
        "            # Update Best Configuration\n",
        "            if val_accuracy > best_accuracy:\n",
        "                best_accuracy = val_accuracy\n",
        "                best_config = {\n",
        "                    'epochs': epochs,\n",
        "                    'optimizer': optimizer_class.__name__,\n",
        "                    'learning_rate': lr,\n",
        "                    'batch_size': batch_size\n",
        "                }\n",
        "                # Save the best model\n",
        "                best_model = copy.deepcopy(model)\n",
        "\n",
        "    print(f\"Best Configuration: {best_config}, Validation Accuracy: {best_accuracy * 100:.2f}%\")\n",
        "    return best_model, best_config\n",
        "\n",
        "\n",
        "# Test and visualize func\n",
        "def test_model(model, test_loader):\n",
        "    model.eval()\n",
        "    model_name = model.__class__.__name__\n",
        "    all_preds = []\n",
        "    all_labels = []\n",
        "    with torch.no_grad():\n",
        "        for texts, labels in test_loader:\n",
        "            texts = texts.to(device)\n",
        "            outputs = model(texts).squeeze(1)\n",
        "            predicted_probs = torch.sigmoid(outputs)\n",
        "            predicted = (predicted_probs > 0.5).int().cpu().numpy()\n",
        "            all_preds.extend(predicted)\n",
        "            all_labels.extend(labels.cpu().numpy())\n",
        "    accuracy = accuracy_score(all_labels, all_preds)\n",
        "    print(f\"Accuracy for {model_name}: {accuracy * 100:.2f}%\")\n",
        "    print(f\"\\nClassification Report for {model_name}\")\n",
        "    print(classification_report(all_labels, all_preds))\n",
        "    cm = confusion_matrix(all_labels, all_preds)\n",
        "    sns.heatmap(cm, annot=True, fmt='d', cmap='Blues')\n",
        "    plt.title(f'Confusion Matrix for {model_name}')\n",
        "    plt.xlabel('Predicted')\n",
        "    plt.ylabel('Actual')\n",
        "    plt.show()\n"
      ],
      "metadata": {
        "id": "aFQ3hNG94mkH"
      },
      "execution_count": 45,
      "outputs": []
    },
    {
      "cell_type": "markdown",
      "source": [
        "\n",
        "\n",
        "---\n",
        "\n",
        "(2a, 2b) Best Config and accuracy for RNN model\n",
        "\n",
        "---\n",
        "\n"
      ],
      "metadata": {
        "id": "IbeNt4hTMvD8"
      }
    },
    {
      "cell_type": "code",
      "source": [
        "# Train, evaluate and find best config for Frozen embedding matrix\n",
        "embedding_matrix, oov_words = create_embedding_matrix(vocab, embedding_model_glove)\n",
        "best_model_Freeze, best_config_Freeze = find_best_config(\n",
        "    model_class=SentimentRNN_Freeze,\n",
        "    embedding_matrix=embedding_matrix,\n",
        "    train_loader=train_loader,\n",
        "    valid_loader=valid_loader,\n",
        "    epochs=epochs,\n",
        "    optimizers=optimizers,\n",
        "    learning_rates=learning_rates,\n",
        "    criterion=criterion\n",
        ")\n",
        "test_model(best_model_Freeze, test_loader)"
      ],
      "metadata": {
        "colab": {
          "base_uri": "https://localhost:8080/",
          "height": 1000
        },
        "id": "y4AGLzjdv65M",
        "outputId": "fdcbae12-47f8-4341-dd07-4c0c84d1d483"
      },
      "execution_count": 46,
      "outputs": [
        {
          "output_type": "stream",
          "name": "stdout",
          "text": [
            "optimizer: Adam\n",
            "learning rate: 0.0001\n",
            "Epoch 1/20\n",
            "Train Loss: 0.6933 | Train Acc: 50.20%\n",
            "Valid Loss: 0.6937 | Valid Acc: 49.08%\n",
            "Epoch 2/20\n",
            "Train Loss: 0.6932 | Train Acc: 50.06%\n",
            "Valid Loss: 0.6929 | Valid Acc: 51.01%\n",
            "Epoch 3/20\n",
            "Train Loss: 0.6932 | Train Acc: 50.29%\n",
            "Valid Loss: 0.6932 | Valid Acc: 49.08%\n",
            "Epoch 4/20\n",
            "Train Loss: 0.6932 | Train Acc: 49.83%\n",
            "Valid Loss: 0.6929 | Valid Acc: 51.01%\n",
            "Epoch 5/20\n",
            "Train Loss: 0.6932 | Train Acc: 50.59%\n",
            "Valid Loss: 0.6933 | Valid Acc: 49.08%\n",
            "Epoch 6/20\n",
            "Train Loss: 0.6931 | Train Acc: 49.83%\n",
            "Valid Loss: 0.6930 | Valid Acc: 48.99%\n",
            "Epoch 7/20\n",
            "Train Loss: 0.6930 | Train Acc: 50.01%\n",
            "Valid Loss: 0.6930 | Valid Acc: 51.01%\n",
            "Epoch 8/20\n",
            "Train Loss: 0.6928 | Train Acc: 50.16%\n",
            "Valid Loss: 0.6929 | Valid Acc: 51.47%\n",
            "Epoch 9/20\n",
            "Train Loss: 0.6926 | Train Acc: 50.30%\n",
            "Valid Loss: 0.6933 | Valid Acc: 47.66%\n",
            "Epoch 10/20\n",
            "Train Loss: 0.6920 | Train Acc: 50.94%\n",
            "Valid Loss: 0.6930 | Valid Acc: 51.83%\n",
            "Epoch 11/20\n",
            "Train Loss: 0.6919 | Train Acc: 50.75%\n",
            "Valid Loss: 0.6937 | Valid Acc: 46.54%\n",
            "Epoch 12/20\n",
            "Train Loss: 0.6920 | Train Acc: 50.27%\n",
            "Valid Loss: 0.6929 | Valid Acc: 46.35%\n",
            "Epoch 13/20\n",
            "Train Loss: 0.6912 | Train Acc: 51.70%\n",
            "Valid Loss: 0.6932 | Valid Acc: 53.42%\n",
            "Epoch 14/20\n",
            "Train Loss: 0.6910 | Train Acc: 51.71%\n",
            "Valid Loss: 0.6930 | Valid Acc: 47.37%\n",
            "Epoch 15/20\n",
            "Train Loss: 0.6905 | Train Acc: 52.45%\n",
            "Valid Loss: 0.6936 | Valid Acc: 48.14%\n",
            "Epoch 16/20\n",
            "Train Loss: 0.6900 | Train Acc: 52.20%\n",
            "Valid Loss: 0.6933 | Valid Acc: 46.53%\n",
            "Epoch 17/20\n",
            "Train Loss: 0.6892 | Train Acc: 52.76%\n",
            "Valid Loss: 0.6925 | Valid Acc: 47.69%\n",
            "Epoch 18/20\n",
            "Train Loss: 0.6901 | Train Acc: 52.22%\n",
            "Valid Loss: 0.6934 | Valid Acc: 51.44%\n",
            "Epoch 19/20\n",
            "Train Loss: 0.6890 | Train Acc: 52.33%\n",
            "Valid Loss: 0.6926 | Valid Acc: 53.33%\n",
            "Epoch 20/20\n",
            "Train Loss: 0.6877 | Train Acc: 53.63%\n",
            "Valid Loss: 0.6943 | Valid Acc: 45.70%\n",
            "Best Configuration: {'epochs': 20, 'optimizer': 'Adam', 'learning_rate': 0.0001, 'batch_size': 64}, Validation Accuracy: 45.70%\n",
            "Accuracy for SentimentRNN_Freeze: 48.50%\n",
            "\n",
            "Classification Report for SentimentRNN_Freeze\n",
            "              precision    recall  f1-score   support\n",
            "\n",
            "           0       0.48      0.34      0.40       533\n",
            "           1       0.49      0.63      0.55       533\n",
            "\n",
            "    accuracy                           0.48      1066\n",
            "   macro avg       0.48      0.48      0.47      1066\n",
            "weighted avg       0.48      0.48      0.47      1066\n",
            "\n"
          ]
        },
        {
          "output_type": "display_data",
          "data": {
            "text/plain": [
              "<Figure size 640x480 with 2 Axes>"
            ],
            "image/png": "[encoded data removed]"
          },
          "metadata": {}
        }
      ]
    },
    {
      "cell_type": "markdown",
      "source": [
        "# Part 3: Enhancements (Improved RNN Models, BiLSTM, BiGRU, CNN)"
      ],
      "metadata": {
        "id": "96qGBQ9PXgj8"
      }
    },
    {
      "cell_type": "code",
      "source": [
        "class SentimentBiLSTM(nn.Module):\n",
        "    def __init__(self, embedding_matrix, hidden_size=128, output_size=1, num_layers=1, bidirectional=True):\n",
        "        super().__init__()\n",
        "        vocab_size, embedding_dim = embedding_matrix.shape\n",
        "        self.embedding = nn.Embedding.from_pretrained(embedding_matrix, freeze=False)\n",
        "        self.rnn = nn.LSTM(\n",
        "            input_size=embedding_dim,\n",
        "            hidden_size=hidden_size,\n",
        "            num_layers=num_layers,\n",
        "            batch_first=True,\n",
        "            bidirectional=bidirectional\n",
        "        )\n",
        "        self.fc = nn.Linear(hidden_size * (2 if bidirectional else 1), output_size)\n",
        "\n",
        "    def forward(self, x):\n",
        "        embedded = self.embedding(x)\n",
        "        output, (hidden, cell) = self.rnn(embedded)\n",
        "        if self.rnn.bidirectional:\n",
        "            hidden = torch.cat((hidden[-2], hidden[-1]), dim=1)\n",
        "        else:\n",
        "            hidden = hidden[-1]\n",
        "        out = self.fc(hidden)\n",
        "        return out\n",
        "\n",
        "\n",
        "class SentimentBiGRU(nn.Module):\n",
        "    def __init__(self, embedding_matrix, hidden_size=128, output_size=1, num_layers=1, bidirectional=True, dropout=0.5):\n",
        "        super().__init__()\n",
        "        vocab_size, embedding_dim = embedding_matrix.shape\n",
        "        self.embedding = nn.Embedding.from_pretrained(embedding_matrix, freeze=False)\n",
        "        self.gru = nn.GRU(\n",
        "            input_size=embedding_dim,\n",
        "            hidden_size=hidden_size,\n",
        "            num_layers=num_layers,\n",
        "            batch_first=True,\n",
        "            bidirectional=bidirectional,\n",
        "            dropout=dropout if num_layers > 1 else 0\n",
        "        )\n",
        "        self.fc = nn.Linear(hidden_size * (2 if bidirectional else 1), output_size)\n",
        "        self.dropout = nn.Dropout(dropout)\n",
        "\n",
        "    def forward(self, x):\n",
        "        embedded = self.embedding(x)\n",
        "        embedded = self.dropout(embedded)\n",
        "        output, hidden = self.gru(embedded)\n",
        "        if self.gru.bidirectional or self.gru.num_layers > 1:\n",
        "            hidden = torch.cat((hidden[-2], hidden[-1]), dim=1)\n",
        "        else:\n",
        "            hidden = hidden[-1]\n",
        "        hidden = self.dropout(hidden)\n",
        "        out = self.fc(hidden)\n",
        "        return out\n",
        "\n",
        "class SentimentCNN(nn.Module):\n",
        "    def __init__(self, embedding_matrix, output_size=1, num_filters=100, filter_sizes=[3, 4, 5], dropout=0.5):\n",
        "        super().__init__()\n",
        "        vocab_size, embedding_dim = embedding_matrix.shape\n",
        "        self.embedding = nn.Embedding.from_pretrained(embedding_matrix, freeze=False)\n",
        "        self.convs = nn.ModuleList([\n",
        "            nn.Conv2d(in_channels=1, out_channels=num_filters, kernel_size=(fs, embedding_dim))\n",
        "            for fs in filter_sizes\n",
        "        ])\n",
        "        self.fc = nn.Linear(len(filter_sizes) * num_filters, output_size)\n",
        "        self.dropout = nn.Dropout(dropout)\n",
        "\n",
        "    def forward(self, x):\n",
        "        embedded = self.embedding(x)\n",
        "        embedded = embedded.unsqueeze(1)\n",
        "        conved = [F.relu(conv(embedded)).squeeze(3) for conv in self.convs]\n",
        "        pooled = [F.max_pool1d(conv, conv.shape[2]).squeeze(2) for conv in conved]\n",
        "        cat = torch.cat(pooled, dim=1)\n",
        "        cat = self.dropout(cat)\n",
        "        out = self.fc(cat)\n",
        "        return out\n"
      ],
      "metadata": {
        "id": "wRGkdKlFYkLr"
      },
      "execution_count": null,
      "outputs": []
    },
    {
      "cell_type": "markdown",
      "source": [
        "\n",
        "\n",
        "---\n",
        "\n",
        "\n",
        "(3a) Results with non-frozen embedding matrix\n",
        "\n",
        "\n",
        "---\n",
        "\n"
      ],
      "metadata": {
        "id": "8WdBceiGNUeD"
      }
    },
    {
      "cell_type": "code",
      "source": [
        "# Train, evaluate and find best config for non-Frozen embedding matrix\n",
        "embedding_matrix, oov_words = create_embedding_matrix(vocab, embedding_model_glove)\n",
        "best_model, best_config = find_best_config(\n",
        "    model_class=SentimentRNN,\n",
        "    embedding_matrix=embedding_matrix,\n",
        "    train_loader=train_loader,\n",
        "    valid_loader=valid_loader,\n",
        "    epochs=epochs,\n",
        "    optimizers=optimizers,\n",
        "    learning_rates=learning_rates,\n",
        "    criterion=criterion\n",
        ")\n",
        "test_model(best_model, test_loader)"
      ],
      "metadata": {
        "colab": {
          "base_uri": "https://localhost:8080/"
        },
        "id": "ST2zXEGmCE_l",
        "outputId": "c6b8392f-2634-4329-f50e-dd4520d0e710"
      },
      "execution_count": null,
      "outputs": [
        {
          "output_type": "stream",
          "name": "stdout",
          "text": [
            "optimizer: Adam\n",
            "learning rate: 0.0001\n",
            "Epoch 1/20\n",
            "Train Loss: 0.6933 | Train Acc: 49.59%\n",
            "Valid Loss: 0.6934 | Valid Acc: 48.99%\n",
            "Epoch 2/20\n",
            "Train Loss: 0.6933 | Train Acc: 50.16%\n",
            "Valid Loss: 0.6939 | Valid Acc: 48.99%\n",
            "Epoch 3/20\n",
            "Train Loss: 0.6932 | Train Acc: 50.26%\n",
            "Valid Loss: 0.6931 | Valid Acc: 50.92%\n",
            "Epoch 4/20\n",
            "Train Loss: 0.6932 | Train Acc: 50.31%\n",
            "Valid Loss: 0.6934 | Valid Acc: 48.99%\n",
            "Epoch 5/20\n",
            "Train Loss: 0.6924 | Train Acc: 50.88%\n",
            "Valid Loss: 0.6936 | Valid Acc: 48.07%\n",
            "Epoch 6/20\n",
            "Train Loss: 0.6634 | Train Acc: 61.69%\n",
            "Valid Loss: 0.7336 | Valid Acc: 50.23%\n",
            "Epoch 7/20\n",
            "Train Loss: 0.5078 | Train Acc: 76.52%\n",
            "Valid Loss: 0.8758 | Valid Acc: 50.70%\n",
            "Epoch 8/20\n",
            "Train Loss: 0.3201 | Train Acc: 87.60%\n",
            "Valid Loss: 1.0401 | Valid Acc: 50.11%\n",
            "Epoch 9/20\n",
            "Train Loss: 0.2064 | Train Acc: 92.83%\n",
            "Valid Loss: 1.2892 | Valid Acc: 49.78%\n",
            "Epoch 10/20\n",
            "Train Loss: 0.1350 | Train Acc: 95.71%\n",
            "Valid Loss: 1.4766 | Valid Acc: 49.60%\n",
            "Epoch 11/20\n",
            "Train Loss: 0.0980 | Train Acc: 97.10%\n",
            "Valid Loss: 1.6331 | Valid Acc: 50.15%\n",
            "Epoch 12/20\n",
            "Train Loss: 0.0701 | Train Acc: 98.09%\n",
            "Valid Loss: 1.7549 | Valid Acc: 50.24%\n",
            "Epoch 13/20\n",
            "Train Loss: 0.0578 | Train Acc: 98.40%\n",
            "Valid Loss: 1.8694 | Valid Acc: 49.68%\n",
            "Epoch 14/20\n",
            "Train Loss: 0.0454 | Train Acc: 98.80%\n",
            "Valid Loss: 1.9613 | Valid Acc: 49.27%\n"
          ]
        }
      ]
    },
    {
      "cell_type": "markdown",
      "source": [
        "\n",
        "\n",
        "---\n",
        "\n",
        "(3b) Results with enhanced embedding matrix for OOV words\n",
        "\n",
        "---\n",
        "\n"
      ],
      "metadata": {
        "id": "MhQCGpwTNF5Z"
      }
    },
    {
      "cell_type": "code",
      "source": [
        "# Try enhanced embedding matrix\n",
        "embedding_matrix_enhanced, oov_words_enhanced = create_embedding_matrix_enhanced(vocab, embedding_model_word2vec, embedding_model_word2vec)\n",
        "best_model_enhanced, best_config_enhanced = find_best_config(\n",
        "    model_class=SentimentRNN,\n",
        "    embedding_matrix=embedding_matrix_enhanced,\n",
        "    train_loader=train_loader,\n",
        "    valid_loader=valid_loader,\n",
        "    epochs=epochs,\n",
        "    optimizers=optimizers,\n",
        "    learning_rates=learning_rates,\n",
        "    criterion=criterion\n",
        ")\n",
        "test_model(best_model_enhanced, test_loader)"
      ],
      "metadata": {
        "id": "Xt1iNzwnWMUo"
      },
      "execution_count": null,
      "outputs": []
    },
    {
      "cell_type": "markdown",
      "source": [
        "\n",
        "\n",
        "---\n",
        "\n",
        "(2c cont) Making use of RNN hidden states\n",
        "\n",
        "---\n",
        "\n"
      ],
      "metadata": {
        "id": "fjmxHnVXNjhk"
      }
    },
    {
      "cell_type": "code",
      "source": [
        "# RNN with average hidden state\n",
        "embedding_matrix_enhanced, oov_words_enhanced = create_embedding_matrix_enhanced(vocab, embedding_model_word2vec, embedding_model_word2vec)\n",
        "best_model_AvgHidden, best_config_AvgHidden = find_best_config(\n",
        "    model_class=SentimentRNN_AvgHidden,\n",
        "    embedding_matrix=embedding_matrix_enhanced,\n",
        "    train_loader=train_loader,\n",
        "    valid_loader=valid_loader,\n",
        "    epochs=epochs,\n",
        "    optimizers=optimizers,\n",
        "    learning_rates=learning_rates,\n",
        "    criterion=criterion\n",
        ")\n",
        "test_model(best_model_AvgHidden, test_loader)"
      ],
      "metadata": {
        "id": "3EyTM3lpCmsN"
      },
      "execution_count": null,
      "outputs": []
    },
    {
      "cell_type": "code",
      "source": [
        "# RNN with attention mechanism\n",
        "embedding_matrix_enhanced, oov_words_enhanced = create_embedding_matrix_enhanced(vocab, embedding_model_word2vec, embedding_model_word2vec)\n",
        "best_model_Attention, best_config_Attention = find_best_config(\n",
        "    model_class=SentimentRNN_Attention,\n",
        "    embedding_matrix=embedding_matrix_enhanced,\n",
        "    train_loader=train_loader,\n",
        "    valid_loader=valid_loader,\n",
        "    epochs=epochs,\n",
        "    optimizers=optimizers,\n",
        "    learning_rates=learning_rates,\n",
        "    criterion=criterion\n",
        ")\n",
        "test_model(best_model_Attention, test_loader)"
      ],
      "metadata": {
        "id": "acbU4nXRC1T9"
      },
      "execution_count": null,
      "outputs": []
    },
    {
      "cell_type": "markdown",
      "source": [
        "\n",
        "\n",
        "---\n",
        "\n",
        "(3c) BiLSTM and BiGRU results\n",
        "\n",
        "---\n",
        "\n"
      ],
      "metadata": {
        "id": "2KL6X4K8NsUA"
      }
    },
    {
      "cell_type": "code",
      "source": [
        "# BiLSTM\n",
        "embedding_matrix_enhanced, oov_words_enhanced = create_embedding_matrix_enhanced(vocab, embedding_model_word2vec, embedding_model_word2vec)\n",
        "best_model_BiLSTM, best_config_BiLSTM = find_best_config(\n",
        "    model_class=SentimentBiLSTM,\n",
        "    embedding_matrix=embedding_matrix_enhanced,\n",
        "    train_loader=train_loader,\n",
        "    valid_loader=valid_loader,\n",
        "    epochs=epochs,\n",
        "    optimizers=optimizers,\n",
        "    learning_rates=learning_rates,\n",
        "    criterion=criterion\n",
        ")\n",
        "test_model(best_model_BiLSTM, test_loader)"
      ],
      "metadata": {
        "id": "uPwwUmngC2bf"
      },
      "execution_count": null,
      "outputs": []
    },
    {
      "cell_type": "code",
      "source": [
        "# BiGRU\n",
        "embedding_matrix_enhanced, oov_words_enhanced = create_embedding_matrix_enhanced(vocab, embedding_model_word2vec, embedding_model_word2vec)\n",
        "best_model_BiGRU, best_config_BiGRU = find_best_config(\n",
        "    model_class=SentimentBiGRU,\n",
        "    embedding_matrix=embedding_matrix_enhanced,\n",
        "    train_loader=train_loader,\n",
        "    valid_loader=valid_loader,\n",
        "    epochs=epochs,\n",
        "    optimizers=optimizers,\n",
        "    learning_rates=learning_rates,\n",
        "    criterion=criterion\n",
        ")\n",
        "test_model(best_model_BiGRU, test_loader)"
      ],
      "metadata": {
        "id": "D5Hd4NaZC2nR"
      },
      "execution_count": null,
      "outputs": []
    },
    {
      "cell_type": "markdown",
      "source": [
        "\n",
        "\n",
        "---\n",
        "\n",
        "(3d) CNN results\n",
        "\n",
        "---\n",
        "\n"
      ],
      "metadata": {
        "id": "QXViNTo-Nz-t"
      }
    },
    {
      "cell_type": "code",
      "source": [
        "# CNN\n",
        "embedding_matrix_enhanced, oov_words_enhanced = create_embedding_matrix_enhanced(vocab, embedding_model_word2vec, embedding_model_word2vec)\n",
        "best_model_CNN, best_config_CNN = find_best_config(\n",
        "    model_class=SentimentCNN,\n",
        "    embedding_matrix=embedding_matrix_enhanced,\n",
        "    train_loader=train_loader,\n",
        "    valid_loader=valid_loader,\n",
        "    epochs=epochs,\n",
        "    optimizers=optimizers,\n",
        "    learning_rates=learning_rates,\n",
        "    criterion=criterion\n",
        ")\n",
        "test_model(best_model_CNN, test_loader)"
      ],
      "metadata": {
        "id": "8jZ96da9C2EQ"
      },
      "execution_count": null,
      "outputs": []
    },
    {
      "cell_type": "markdown",
      "source": [
        "\n",
        "\n",
        "---\n",
        "\n",
        "(3e) Further Improvements\n",
        "\n",
        "---\n",
        "\n"
      ],
      "metadata": {
        "id": "HYgUIzf_N35Q"
      }
    },
    {
      "cell_type": "code",
      "source": [],
      "metadata": {
        "id": "Y84n3ze3N6lG"
      },
      "execution_count": null,
      "outputs": []
    }
  ]
}